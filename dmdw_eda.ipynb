{
  "nbformat": 4,
  "nbformat_minor": 0,
  "metadata": {
    "colab": {
      "name": "dmdw_eda.ipynb",
      "provenance": [],
      "collapsed_sections": [],
      "authorship_tag": "ABX9TyOd/Z4DVH4y1CQ1wVkTAFXE",
      "include_colab_link": true
    },
    "kernelspec": {
      "name": "python3",
      "display_name": "Python 3"
    },
    "language_info": {
      "name": "python"
    }
  },
  "cells": [
    {
      "cell_type": "markdown",
      "metadata": {
        "id": "view-in-github",
        "colab_type": "text"
      },
      "source": [
        "<a href=\"https://colab.research.google.com/github/elenaandradacalinescu/MediBloc.github.io/blob/main/dmdw_eda.ipynb\" target=\"_parent\"><img src=\"https://colab.research.google.com/assets/colab-badge.svg\" alt=\"Open In Colab\"/></a>"
      ]
    },
    {
      "cell_type": "code",
      "execution_count": null,
      "metadata": {
        "id": "IOhqurg-M026"
      },
      "outputs": [],
      "source": [
        "import numpy as np\n",
        "import matplotlib.pyplot as plt\n",
        "import pandas as pd\n",
        "import seaborn as sns\n",
        "from tensorflow.keras.models import Sequential\n",
        "from tensorflow.keras.layers import Dense, LSTM\n",
        "from sklearn.preprocessing import MinMaxScaler\n",
        "from sklearn.metrics import mean_squared_error"
      ]
    },
    {
      "cell_type": "code",
      "source": [
        "dataset = pd.read_csv('Dataset2.csv')\n",
        "dataset"
      ],
      "metadata": {
        "id": "SaWGuhuiOWzD"
      },
      "execution_count": null,
      "outputs": []
    },
    {
      "cell_type": "code",
      "source": [
        "dataset.info()"
      ],
      "metadata": {
        "id": "J6jdRUSiovXP"
      },
      "execution_count": null,
      "outputs": []
    },
    {
      "cell_type": "code",
      "source": [
        "plt.figure(figsize=(10, 7))\n",
        "sns.barplot(\n",
        "    x=\"Year\", \n",
        "    y=\"TotalPassengers\", \n",
        "    data=dataset, \n",
        "    estimator=sum, \n",
        "    ci=None);"
      ],
      "metadata": {
        "id": "Cxq5rf7JWfxG"
      },
      "execution_count": null,
      "outputs": []
    },
    {
      "cell_type": "code",
      "source": [
        "datasetPassengers = dataset.drop(['Year', 'Month'], axis=1)\n",
        "datasetPassengers.describe()"
      ],
      "metadata": {
        "id": "2hAEJ90T4ShG"
      },
      "execution_count": null,
      "outputs": []
    },
    {
      "cell_type": "code",
      "source": [
        "plt.plot(dataset['TotalPassengers'])\n",
        "plt.title('2003-2021')"
      ],
      "metadata": {
        "id": "zfPx7Ekr6Q98"
      },
      "execution_count": null,
      "outputs": []
    },
    {
      "cell_type": "code",
      "source": [
        "fig, ax = plt.subplots(1, 2)\n",
        "fig.set_figheight(7)\n",
        "fig.set_figwidth(15)\n",
        "\n",
        "ax[0].plot(dataset['International'])\n",
        "ax[0].set_title('International')\n",
        "ax[1].plot(dataset['Domestic'])\n",
        "ax[1].set_title('Domestic')"
      ],
      "metadata": {
        "id": "O0kfdH4Q7BCh"
      },
      "execution_count": null,
      "outputs": []
    },
    {
      "cell_type": "code",
      "source": [
        "x = list(range(228))\n",
        "plt.plot(x, dataset['TotalPassengers'])\n",
        "z = np.polyfit(x, dataset['TotalPassengers'], 1)\n",
        "p = np.poly1d(z)\n",
        "plt.plot(x,p(x))"
      ],
      "metadata": {
        "id": "Xi-Va0DrM06R"
      },
      "execution_count": null,
      "outputs": []
    },
    {
      "cell_type": "code",
      "source": [
        "plt.boxplot(dataset['TotalPassengers'])\n",
        "fig = plt.figure(figsize =(10, 7))\n",
        "plt.show()"
      ],
      "metadata": {
        "id": "rB0eFnfinpeV"
      },
      "execution_count": null,
      "outputs": []
    }
  ]
}